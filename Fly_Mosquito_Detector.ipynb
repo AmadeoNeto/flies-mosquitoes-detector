{
 "cells": [
  {
   "cell_type": "code",
   "execution_count": 74,
   "metadata": {
    "id": "zQuF27YQz28t"
   },
   "outputs": [
    {
     "name": "stderr",
     "output_type": "stream",
     "text": [
      "ERROR: pip's dependency resolver does not currently take into account all the packages that are installed. This behaviour is the source of the following dependency conflicts.\n",
      "voila 0.2.16 requires nbconvert<7,>=6.0.0, but you have nbconvert 5.6.1 which is incompatible.\n"
     ]
    }
   ],
   "source": [
    "import os\n",
    "!pip install -Uqq fastbook -q \n",
    "from fastbook import *\n",
    "from fastai.vision.widgets import *"
   ]
  },
  {
   "cell_type": "code",
   "execution_count": 75,
   "metadata": {
    "id": "KgqOKHrm0qwA"
   },
   "outputs": [],
   "source": [
    "# Get the path of the project folder\n",
    "# Note: its necessary to upload the export.pkl and the notebook itself \n",
    "# in order to the notebook work\n",
    "import os\n",
    "path = Path(os.getcwd())\n",
    "\n",
    "# These lines are used to solve an error when running the notebook locally\n",
    "# on a windows machine due to the way python path works\n",
    "import pathlib\n",
    "if os.name == 'nt': \n",
    "    original_posix_path = pathlib.PosixPath\n",
    "    pathlib.PosixPath = pathlib.WindowsPath\n",
    "    path"
   ]
  },
  {
   "cell_type": "code",
   "execution_count": 76,
   "metadata": {
    "id": "ojcM09gB3rbJ"
   },
   "outputs": [],
   "source": [
    "# Loads the learner from the export.pkl file\n",
    "learner = load_learner(path/'export.pkl')"
   ]
  },
  {
   "cell_type": "markdown",
   "metadata": {
    "id": "5TaK-Gf3Pdo8"
   },
   "source": [
    "#Flies and Mosquitoes Detector\n",
    "  Flies and Mosquitoes are winged arthropods common in many urban environments and that are vectors of many diseases. This site uses Deep Learning to identify if a photo of these animals are from an Aedes aegypti (also known as \"Dengue Mosquito\"), an Triatoma infestans (also known as \"Kissing Bug\" and \"Barbeiro\") or from a housefly.\n",
    "\n",
    "  To use the app, simply upload an image from your computer that contains one of these insects. Then, watch the magic of image classification using neural networks. "
   ]
  },
  {
   "cell_type": "code",
   "execution_count": 77,
   "metadata": {
    "id": "u9VwTFV4ZVdi"
   },
   "outputs": [],
   "source": [
    "shown_image = widgets.Output() # The image shown in the notebook\n",
    "pred_label = widgets.Label()   # The label with the prediction result"
   ]
  },
  {
   "cell_type": "code",
   "execution_count": 78,
   "metadata": {
    "id": "SxSvkJIZRW4t"
   },
   "outputs": [],
   "source": [
    "# Create the button to upload the image\n",
    "up_label = widgets.Label('Upload an image!')\n",
    "up_button = widgets.FileUpload()"
   ]
  },
  {
   "cell_type": "code",
   "execution_count": 79,
   "metadata": {
    "id": "l2PutYLTS23H"
   },
   "outputs": [],
   "source": [
    "# Function to be executed by the start button\n",
    "def on_click_start(change):\n",
    "\n",
    "    # If no image was uploaded, give the folowing error and return\n",
    "    if len(up_button.data) == 0:\n",
    "        pred_label.value = \"Ops! You forgot to upload an image\"\n",
    "        shown_image.clear_output()\n",
    "        return\n",
    "\n",
    "    # Show the last uploaded image\n",
    "    uploaded_img = PILImage.create(up_button.data[-1])\n",
    "    shown_image.clear_output()\n",
    "    with shown_image: display(uploaded_img.to_thumb(128,128))\n",
    "    \n",
    "    # Use the model to make the prediction and show it in a label\n",
    "    pred,index,probs = learner.predict(uploaded_img)\n",
    "    conf = probs[index] * 100\n",
    "    pred_text = f\"The detector judges that it's a {pred} with {conf:.5}% of confidence\"\n",
    "    pred_label.value = pred_text"
   ]
  },
  {
   "cell_type": "code",
   "execution_count": 80,
   "metadata": {
    "id": "5C_e82l4Wjzh"
   },
   "outputs": [],
   "source": [
    "# Create the start button\n",
    "start_button = widgets.Button(description=\"Classify\")\n",
    "start_button.on_click(on_click_start)"
   ]
  },
  {
   "cell_type": "code",
   "execution_count": 81,
   "metadata": {
    "colab": {
     "base_uri": "https://localhost:8080/",
     "height": 238,
     "referenced_widgets": [
      "e3b1dc2fa22c4509bea13c229d19f502",
      "bed5dfc3111c4042ac2dd6fd516591fb",
      "9bcc98a5329f428294d1c3606c5f970b",
      "a7b0373099a541429ec054da7de09f34",
      "0809341a8b6f45ecbd9f3b3a0276256c",
      "a8d73abc49a9498193e63f6c04e9bc4e",
      "c5adc4ba9c7e4872998d156691282a72",
      "4a212016c3c44e8684f788b1180b6f54",
      "e95f725b1b2b48bf9aa309e5b200822f",
      "b4021ba1961248b0b1d7ae969c9bba22",
      "a6e80aedf0984bc9935a70b15f3c3f2c",
      "020b7f76896a4905b55e4e9a24455bc1",
      "6e679e3fd7de455eba8b9afe5ee7f0e2",
      "77aaa814f9594249a74ee5587e51fa06",
      "ed2cb01b72604541a08a038c306238b8",
      "282fe627b19f4347b8eb7e043c3c19e9"
     ]
    },
    "id": "FIY8Wxp4YmZ3",
    "outputId": "89f59255-a2e7-42a5-c023-d60f9e096200"
   },
   "outputs": [
    {
     "data": {
      "application/vnd.jupyter.widget-view+json": {
       "model_id": "c3dc0721179b40fa90dc5ca146126f3a",
       "version_major": 2,
       "version_minor": 0
      },
      "text/plain": [
       "VBox(children=(Label(value='Upload an image!'), FileUpload(value={}, description='Upload'), Button(description…"
      ]
     },
     "metadata": {},
     "output_type": "display_data"
    }
   ],
   "source": [
    "# Create the VBox with all the widgets created\n",
    "VBox([up_label,up_button,start_button,shown_image,pred_label])"
   ]
  },
  {
   "cell_type": "code",
   "execution_count": 82,
   "metadata": {
    "id": "z3-Vx8cCrtM3"
   },
   "outputs": [
    {
     "name": "stderr",
     "output_type": "stream",
     "text": [
      "ERROR: pip's dependency resolver does not currently take into account all the packages that are installed. This behaviour is the source of the following dependency conflicts.\n",
      "nbdev 1.1.23 requires nbconvert<6, but you have nbconvert 6.3.0 which is incompatible.\n",
      "WARNING: You are using pip version 21.0.1; however, version 21.3.1 is available.\n",
      "You should consider upgrading via the 'c:\\users\\amadeo neto\\appdata\\local\\programs\\python\\python38\\python.exe -m pip install --upgrade pip' command.\n"
     ]
    }
   ],
   "source": [
    "!pip install voila -q"
   ]
  },
  {
   "cell_type": "code",
   "execution_count": 84,
   "metadata": {
    "id": "p9yJl3SHzIRj"
   },
   "outputs": [
    {
     "name": "stderr",
     "output_type": "stream",
     "text": [
      "UsageError: Line magic function `%%capture` not found.\n"
     ]
    }
   ],
   "source": [
    "# Start the Voila session. Since it didn’t work on Collab it is needed to \n",
    "# download the notebook and run the code locally using the command:\n",
    "# jupyter notebook\n",
    "\n",
    "# %%capture discard the output of this cell, preventing it to appear in the page  \n",
    "%%capture\n",
    "!jupyter serverextension enable --sys-prefix voila;"
   ]
  },
  {
   "cell_type": "code",
   "execution_count": null,
   "metadata": {
    "id": "_wyNzmqe6sjo"
   },
   "outputs": [],
   "source": []
  }
 ],
 "metadata": {
  "colab": {
   "collapsed_sections": [],
   "name": "Fly_Mosquito_Detector.ipynb",
   "provenance": []
  },
  "kernelspec": {
   "display_name": "Python 3",
   "language": "python",
   "name": "python3"
  },
  "language_info": {
   "codemirror_mode": {
    "name": "ipython",
    "version": 3
   },
   "file_extension": ".py",
   "mimetype": "text/x-python",
   "name": "python",
   "nbconvert_exporter": "python",
   "pygments_lexer": "ipython3",
   "version": "3.8.5"
  },
  "widgets": {
   "application/vnd.jupyter.widget-state+json": {
    "020b7f76896a4905b55e4e9a24455bc1": {
     "model_module": "@jupyter-widgets/controls",
     "model_module_version": "1.5.0",
     "model_name": "ButtonStyleModel",
     "state": {
      "_model_module": "@jupyter-widgets/controls",
      "_model_module_version": "1.5.0",
      "_model_name": "ButtonStyleModel",
      "_view_count": null,
      "_view_module": "@jupyter-widgets/base",
      "_view_module_version": "1.2.0",
      "_view_name": "StyleView",
      "button_color": null,
      "font_weight": ""
     }
    },
    "0809341a8b6f45ecbd9f3b3a0276256c": {
     "model_module": "@jupyter-widgets/controls",
     "model_module_version": "1.5.0",
     "model_name": "ButtonModel",
     "state": {
      "_dom_classes": [],
      "_model_module": "@jupyter-widgets/controls",
      "_model_module_version": "1.5.0",
      "_model_name": "ButtonModel",
      "_view_count": null,
      "_view_module": "@jupyter-widgets/controls",
      "_view_module_version": "1.5.0",
      "_view_name": "ButtonView",
      "button_style": "",
      "description": "Classify",
      "disabled": false,
      "icon": "",
      "layout": "IPY_MODEL_6e679e3fd7de455eba8b9afe5ee7f0e2",
      "style": "IPY_MODEL_020b7f76896a4905b55e4e9a24455bc1",
      "tooltip": ""
     }
    },
    "282fe627b19f4347b8eb7e043c3c19e9": {
     "model_module": "@jupyter-widgets/base",
     "model_module_version": "1.2.0",
     "model_name": "LayoutModel",
     "state": {
      "_model_module": "@jupyter-widgets/base",
      "_model_module_version": "1.2.0",
      "_model_name": "LayoutModel",
      "_view_count": null,
      "_view_module": "@jupyter-widgets/base",
      "_view_module_version": "1.2.0",
      "_view_name": "LayoutView",
      "align_content": null,
      "align_items": null,
      "align_self": null,
      "border": null,
      "bottom": null,
      "display": null,
      "flex": null,
      "flex_flow": null,
      "grid_area": null,
      "grid_auto_columns": null,
      "grid_auto_flow": null,
      "grid_auto_rows": null,
      "grid_column": null,
      "grid_gap": null,
      "grid_row": null,
      "grid_template_areas": null,
      "grid_template_columns": null,
      "grid_template_rows": null,
      "height": null,
      "justify_content": null,
      "justify_items": null,
      "left": null,
      "margin": null,
      "max_height": null,
      "max_width": null,
      "min_height": null,
      "min_width": null,
      "object_fit": null,
      "object_position": null,
      "order": null,
      "overflow": null,
      "overflow_x": null,
      "overflow_y": null,
      "padding": null,
      "right": null,
      "top": null,
      "visibility": null,
      "width": null
     }
    },
    "4a212016c3c44e8684f788b1180b6f54": {
     "model_module": "@jupyter-widgets/controls",
     "model_module_version": "1.5.0",
     "model_name": "DescriptionStyleModel",
     "state": {
      "_model_module": "@jupyter-widgets/controls",
      "_model_module_version": "1.5.0",
      "_model_name": "DescriptionStyleModel",
      "_view_count": null,
      "_view_module": "@jupyter-widgets/base",
      "_view_module_version": "1.2.0",
      "_view_name": "StyleView",
      "description_width": ""
     }
    },
    "6e679e3fd7de455eba8b9afe5ee7f0e2": {
     "model_module": "@jupyter-widgets/base",
     "model_module_version": "1.2.0",
     "model_name": "LayoutModel",
     "state": {
      "_model_module": "@jupyter-widgets/base",
      "_model_module_version": "1.2.0",
      "_model_name": "LayoutModel",
      "_view_count": null,
      "_view_module": "@jupyter-widgets/base",
      "_view_module_version": "1.2.0",
      "_view_name": "LayoutView",
      "align_content": null,
      "align_items": null,
      "align_self": null,
      "border": null,
      "bottom": null,
      "display": null,
      "flex": null,
      "flex_flow": null,
      "grid_area": null,
      "grid_auto_columns": null,
      "grid_auto_flow": null,
      "grid_auto_rows": null,
      "grid_column": null,
      "grid_gap": null,
      "grid_row": null,
      "grid_template_areas": null,
      "grid_template_columns": null,
      "grid_template_rows": null,
      "height": null,
      "justify_content": null,
      "justify_items": null,
      "left": null,
      "margin": null,
      "max_height": null,
      "max_width": null,
      "min_height": null,
      "min_width": null,
      "object_fit": null,
      "object_position": null,
      "order": null,
      "overflow": null,
      "overflow_x": null,
      "overflow_y": null,
      "padding": null,
      "right": null,
      "top": null,
      "visibility": null,
      "width": null
     }
    },
    "77aaa814f9594249a74ee5587e51fa06": {
     "model_module": "@jupyter-widgets/controls",
     "model_module_version": "1.5.0",
     "model_name": "DescriptionStyleModel",
     "state": {
      "_model_module": "@jupyter-widgets/controls",
      "_model_module_version": "1.5.0",
      "_model_name": "DescriptionStyleModel",
      "_view_count": null,
      "_view_module": "@jupyter-widgets/base",
      "_view_module_version": "1.2.0",
      "_view_name": "StyleView",
      "description_width": ""
     }
    },
    "9bcc98a5329f428294d1c3606c5f970b": {
     "model_module": "@jupyter-widgets/controls",
     "model_module_version": "1.5.0",
     "model_name": "LabelModel",
     "state": {
      "_dom_classes": [],
      "_model_module": "@jupyter-widgets/controls",
      "_model_module_version": "1.5.0",
      "_model_name": "LabelModel",
      "_view_count": null,
      "_view_module": "@jupyter-widgets/controls",
      "_view_module_version": "1.5.0",
      "_view_name": "LabelView",
      "description": "",
      "description_tooltip": null,
      "layout": "IPY_MODEL_e95f725b1b2b48bf9aa309e5b200822f",
      "placeholder": "​",
      "style": "IPY_MODEL_4a212016c3c44e8684f788b1180b6f54",
      "value": "Upload an image!"
     }
    },
    "a6e80aedf0984bc9935a70b15f3c3f2c": {
     "model_module": "@jupyter-widgets/base",
     "model_module_version": "1.2.0",
     "model_name": "LayoutModel",
     "state": {
      "_model_module": "@jupyter-widgets/base",
      "_model_module_version": "1.2.0",
      "_model_name": "LayoutModel",
      "_view_count": null,
      "_view_module": "@jupyter-widgets/base",
      "_view_module_version": "1.2.0",
      "_view_name": "LayoutView",
      "align_content": null,
      "align_items": null,
      "align_self": null,
      "border": null,
      "bottom": null,
      "display": null,
      "flex": null,
      "flex_flow": null,
      "grid_area": null,
      "grid_auto_columns": null,
      "grid_auto_flow": null,
      "grid_auto_rows": null,
      "grid_column": null,
      "grid_gap": null,
      "grid_row": null,
      "grid_template_areas": null,
      "grid_template_columns": null,
      "grid_template_rows": null,
      "height": null,
      "justify_content": null,
      "justify_items": null,
      "left": null,
      "margin": null,
      "max_height": null,
      "max_width": null,
      "min_height": null,
      "min_width": null,
      "object_fit": null,
      "object_position": null,
      "order": null,
      "overflow": null,
      "overflow_x": null,
      "overflow_y": null,
      "padding": null,
      "right": null,
      "top": null,
      "visibility": null,
      "width": null
     }
    },
    "a7b0373099a541429ec054da7de09f34": {
     "model_module": "@jupyter-widgets/controls",
     "model_module_version": "1.5.0",
     "model_name": "FileUploadModel",
     "state": {
      "_counter": 1,
      "_dom_classes": [],
      "_model_module": "@jupyter-widgets/controls",
      "_model_module_version": "1.5.0",
      "_model_name": "FileUploadModel",
      "_view_count": null,
      "_view_module": "@jupyter-widgets/controls",
      "_view_module_version": "1.5.0",
      "_view_name": "FileUploadView",
      "accept": "",
      "button_style": "",
      "data": [
       null
      ],
      "description": "Upload",
      "description_tooltip": null,
      "disabled": false,
      "error": "",
      "icon": "upload",
      "layout": "IPY_MODEL_a6e80aedf0984bc9935a70b15f3c3f2c",
      "metadata": [
       {
        "lastModified": 1638920895670,
        "name": "download.jfif",
        "size": 8927,
        "type": "image/jpeg"
       }
      ],
      "multiple": false,
      "style": "IPY_MODEL_b4021ba1961248b0b1d7ae969c9bba22"
     }
    },
    "a8d73abc49a9498193e63f6c04e9bc4e": {
     "model_module": "@jupyter-widgets/output",
     "model_module_version": "1.0.0",
     "model_name": "OutputModel",
     "state": {
      "_dom_classes": [],
      "_model_module": "@jupyter-widgets/output",
      "_model_module_version": "1.0.0",
      "_model_name": "OutputModel",
      "_view_count": null,
      "_view_module": "@jupyter-widgets/output",
      "_view_module_version": "1.0.0",
      "_view_name": "OutputView",
      "layout": "IPY_MODEL_282fe627b19f4347b8eb7e043c3c19e9",
      "msg_id": "",
      "outputs": [
       {
        "data": {
         "image/png": "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\n",
         "text/plain": "<PIL.Image.Image image mode=RGB size=128x93 at 0x7F6478697750>"
        },
        "metadata": {},
        "output_type": "display_data"
       }
      ]
     }
    },
    "b4021ba1961248b0b1d7ae969c9bba22": {
     "model_module": "@jupyter-widgets/controls",
     "model_module_version": "1.5.0",
     "model_name": "ButtonStyleModel",
     "state": {
      "_model_module": "@jupyter-widgets/controls",
      "_model_module_version": "1.5.0",
      "_model_name": "ButtonStyleModel",
      "_view_count": null,
      "_view_module": "@jupyter-widgets/base",
      "_view_module_version": "1.2.0",
      "_view_name": "StyleView",
      "button_color": null,
      "font_weight": ""
     }
    },
    "bed5dfc3111c4042ac2dd6fd516591fb": {
     "model_module": "@jupyter-widgets/base",
     "model_module_version": "1.2.0",
     "model_name": "LayoutModel",
     "state": {
      "_model_module": "@jupyter-widgets/base",
      "_model_module_version": "1.2.0",
      "_model_name": "LayoutModel",
      "_view_count": null,
      "_view_module": "@jupyter-widgets/base",
      "_view_module_version": "1.2.0",
      "_view_name": "LayoutView",
      "align_content": null,
      "align_items": null,
      "align_self": null,
      "border": null,
      "bottom": null,
      "display": null,
      "flex": null,
      "flex_flow": null,
      "grid_area": null,
      "grid_auto_columns": null,
      "grid_auto_flow": null,
      "grid_auto_rows": null,
      "grid_column": null,
      "grid_gap": null,
      "grid_row": null,
      "grid_template_areas": null,
      "grid_template_columns": null,
      "grid_template_rows": null,
      "height": null,
      "justify_content": null,
      "justify_items": null,
      "left": null,
      "margin": null,
      "max_height": null,
      "max_width": null,
      "min_height": null,
      "min_width": null,
      "object_fit": null,
      "object_position": null,
      "order": null,
      "overflow": null,
      "overflow_x": null,
      "overflow_y": null,
      "padding": null,
      "right": null,
      "top": null,
      "visibility": null,
      "width": null
     }
    },
    "c5adc4ba9c7e4872998d156691282a72": {
     "model_module": "@jupyter-widgets/controls",
     "model_module_version": "1.5.0",
     "model_name": "LabelModel",
     "state": {
      "_dom_classes": [],
      "_model_module": "@jupyter-widgets/controls",
      "_model_module_version": "1.5.0",
      "_model_name": "LabelModel",
      "_view_count": null,
      "_view_module": "@jupyter-widgets/controls",
      "_view_module_version": "1.5.0",
      "_view_name": "LabelView",
      "description": "",
      "description_tooltip": null,
      "layout": "IPY_MODEL_ed2cb01b72604541a08a038c306238b8",
      "placeholder": "​",
      "style": "IPY_MODEL_77aaa814f9594249a74ee5587e51fa06",
      "value": "The detector judges that it's a housefly with 100.0% of confidence"
     }
    },
    "e3b1dc2fa22c4509bea13c229d19f502": {
     "model_module": "@jupyter-widgets/controls",
     "model_module_version": "1.5.0",
     "model_name": "VBoxModel",
     "state": {
      "_dom_classes": [],
      "_model_module": "@jupyter-widgets/controls",
      "_model_module_version": "1.5.0",
      "_model_name": "VBoxModel",
      "_view_count": null,
      "_view_module": "@jupyter-widgets/controls",
      "_view_module_version": "1.5.0",
      "_view_name": "VBoxView",
      "box_style": "",
      "children": [
       "IPY_MODEL_9bcc98a5329f428294d1c3606c5f970b",
       "IPY_MODEL_a7b0373099a541429ec054da7de09f34",
       "IPY_MODEL_0809341a8b6f45ecbd9f3b3a0276256c",
       "IPY_MODEL_a8d73abc49a9498193e63f6c04e9bc4e",
       "IPY_MODEL_c5adc4ba9c7e4872998d156691282a72"
      ],
      "layout": "IPY_MODEL_bed5dfc3111c4042ac2dd6fd516591fb"
     }
    },
    "e95f725b1b2b48bf9aa309e5b200822f": {
     "model_module": "@jupyter-widgets/base",
     "model_module_version": "1.2.0",
     "model_name": "LayoutModel",
     "state": {
      "_model_module": "@jupyter-widgets/base",
      "_model_module_version": "1.2.0",
      "_model_name": "LayoutModel",
      "_view_count": null,
      "_view_module": "@jupyter-widgets/base",
      "_view_module_version": "1.2.0",
      "_view_name": "LayoutView",
      "align_content": null,
      "align_items": null,
      "align_self": null,
      "border": null,
      "bottom": null,
      "display": null,
      "flex": null,
      "flex_flow": null,
      "grid_area": null,
      "grid_auto_columns": null,
      "grid_auto_flow": null,
      "grid_auto_rows": null,
      "grid_column": null,
      "grid_gap": null,
      "grid_row": null,
      "grid_template_areas": null,
      "grid_template_columns": null,
      "grid_template_rows": null,
      "height": null,
      "justify_content": null,
      "justify_items": null,
      "left": null,
      "margin": null,
      "max_height": null,
      "max_width": null,
      "min_height": null,
      "min_width": null,
      "object_fit": null,
      "object_position": null,
      "order": null,
      "overflow": null,
      "overflow_x": null,
      "overflow_y": null,
      "padding": null,
      "right": null,
      "top": null,
      "visibility": null,
      "width": null
     }
    },
    "ed2cb01b72604541a08a038c306238b8": {
     "model_module": "@jupyter-widgets/base",
     "model_module_version": "1.2.0",
     "model_name": "LayoutModel",
     "state": {
      "_model_module": "@jupyter-widgets/base",
      "_model_module_version": "1.2.0",
      "_model_name": "LayoutModel",
      "_view_count": null,
      "_view_module": "@jupyter-widgets/base",
      "_view_module_version": "1.2.0",
      "_view_name": "LayoutView",
      "align_content": null,
      "align_items": null,
      "align_self": null,
      "border": null,
      "bottom": null,
      "display": null,
      "flex": null,
      "flex_flow": null,
      "grid_area": null,
      "grid_auto_columns": null,
      "grid_auto_flow": null,
      "grid_auto_rows": null,
      "grid_column": null,
      "grid_gap": null,
      "grid_row": null,
      "grid_template_areas": null,
      "grid_template_columns": null,
      "grid_template_rows": null,
      "height": null,
      "justify_content": null,
      "justify_items": null,
      "left": null,
      "margin": null,
      "max_height": null,
      "max_width": null,
      "min_height": null,
      "min_width": null,
      "object_fit": null,
      "object_position": null,
      "order": null,
      "overflow": null,
      "overflow_x": null,
      "overflow_y": null,
      "padding": null,
      "right": null,
      "top": null,
      "visibility": null,
      "width": null
     }
    }
   }
  }
 },
 "nbformat": 4,
 "nbformat_minor": 1
}
